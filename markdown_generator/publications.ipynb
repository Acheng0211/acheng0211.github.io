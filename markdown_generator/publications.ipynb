{
 "cells": [
  {
   "cell_type": "markdown",
   "metadata": {
    "deletable": true,
    "editable": true
   },
   "source": [
    "# Publications markdown generator for academicpages\n",
    "\n",
    "Takes a TSV of publications with metadata and converts them for use with [academicpages.github.io](academicpages.github.io). This is an interactive Jupyter notebook ([see more info here](http://jupyter-notebook-beginner-guide.readthedocs.io/en/latest/what_is_jupyter.html)). The core python code is also in `publications.py`. Run either from the `markdown_generator` folder after replacing `publications.tsv` with one containing your data.\n",
    "\n",
    "TODO: Make this work with BibTex and other databases of citations, rather than Stuart's non-standard TSV format and citation style.\n"
   ]
  },
  {
   "cell_type": "markdown",
   "metadata": {},
   "source": [
    "## Data format\n",
    "\n",
    "The TSV needs to have the following columns: pub_date, title, venue, excerpt, citation, site_url, and paper_url, with a header at the top. \n",
    "\n",
    "- `excerpt` and `paper_url` can be blank, but the others must have values. \n",
    "- `pub_date` must be formatted as YYYY-MM-DD.\n",
    "- `url_slug` will be the descriptive part of the .md file and the permalink URL for the page about the paper. The .md file will be `YYYY-MM-DD-[url_slug].md` and the permalink will be `https://[yourdomain]/publications/YYYY-MM-DD-[url_slug]`\n",
    "\n",
    "This is how the raw file looks (it doesn't look pretty, use a spreadsheet or other program to edit and create)."
   ]
  },
  {
   "cell_type": "code",
   "execution_count": 76,
   "metadata": {
    "collapsed": false
   },
   "outputs": [
    {
     "name": "stderr",
     "output_type": "stream",
     "text": [
      "'cat' �����ڲ����ⲿ���Ҳ���ǿ����еĳ���\n",
      "���������ļ���\n"
     ]
    }
   ],
   "source": [
    "!cat publications.tsv"
   ]
  },
  {
   "cell_type": "markdown",
   "metadata": {},
   "source": [
    "## Import pandas\n",
    "\n",
    "We are using the very handy pandas library for dataframes."
   ]
  },
  {
   "cell_type": "code",
   "execution_count": 77,
   "metadata": {
    "collapsed": true,
    "deletable": true,
    "editable": true
   },
   "outputs": [],
   "source": [
    "import pandas as pd"
   ]
  },
  {
   "cell_type": "markdown",
   "metadata": {},
   "source": [
    "## Import TSV\n",
    "\n",
    "Pandas makes this easy with the read_csv function. We are using a TSV, so we specify the separator as a tab, or `\\t`.\n",
    "\n",
    "I found it important to put this data in a tab-separated values format, because there are a lot of commas in this kind of data and comma-separated values can get messed up. However, you can modify the import statement, as pandas also has read_excel(), read_json(), and others."
   ]
  },
  {
   "cell_type": "code",
   "execution_count": 78,
   "metadata": {
    "collapsed": false,
    "deletable": true,
    "editable": true
   },
   "outputs": [
    {
     "data": {
      "text/html": [
       "<div>\n",
       "<style scoped>\n",
       "    .dataframe tbody tr th:only-of-type {\n",
       "        vertical-align: middle;\n",
       "    }\n",
       "\n",
       "    .dataframe tbody tr th {\n",
       "        vertical-align: top;\n",
       "    }\n",
       "\n",
       "    .dataframe thead th {\n",
       "        text-align: right;\n",
       "    }\n",
       "</style>\n",
       "<table border=\"1\" class=\"dataframe\">\n",
       "  <thead>\n",
       "    <tr style=\"text-align: right;\">\n",
       "      <th></th>\n",
       "      <th>pub_date</th>\n",
       "      <th>title</th>\n",
       "      <th>venue</th>\n",
       "      <th>excerpt</th>\n",
       "      <th>citation</th>\n",
       "      <th>url_slug</th>\n",
       "      <th>paper_url</th>\n",
       "      <th>slides_url</th>\n",
       "      <th>category</th>\n",
       "    </tr>\n",
       "  </thead>\n",
       "  <tbody>\n",
       "    <tr>\n",
       "      <th>0</th>\n",
       "      <td>2024-06-21</td>\n",
       "      <td>基于混合现实的物品抓取方法及混合现实设备(An object grasping method...</td>\n",
       "      <td>China</td>\n",
       "      <td>NaN</td>\n",
       "      <td>Chenglong Fu, Chengjie Zhang, Yuquan Leng, **...</td>\n",
       "      <td>2024-patent</td>\n",
       "      <td>https://patents.google.com/patent/CN116243795B...</td>\n",
       "      <td>NaN</td>\n",
       "      <td>patents</td>\n",
       "    </tr>\n",
       "    <tr>\n",
       "      <th>1</th>\n",
       "      <td>2024-06-23</td>\n",
       "      <td>Evolutionary Morphology Towards Overconstraine...</td>\n",
       "      <td>IEEE/IFToMM International Conference on Reconf...</td>\n",
       "      <td>NaN</td>\n",
       "      <td>Yenan Chen, Chuye Zhang, Pengxi Gu, Jianuo Qiu...</td>\n",
       "      <td>2024-ReMAR</td>\n",
       "      <td>https://ieeexplore.ieee.org/abstract/document/...</td>\n",
       "      <td>NaN</td>\n",
       "      <td>conferences</td>\n",
       "    </tr>\n",
       "    <tr>\n",
       "      <th>2</th>\n",
       "      <td>2024-07-08</td>\n",
       "      <td>IMU-Based Prediction of Multiple Grasping Gest...</td>\n",
       "      <td>IEEE International Conference on Advanced Robo...</td>\n",
       "      <td>NaN</td>\n",
       "      <td>Guotao Gou, Kong Hoi Cheng, Jinxin Sun, Chengy...</td>\n",
       "      <td>2024-ICARM-1</td>\n",
       "      <td>https://ieeexplore.ieee.org/abstract/document/...</td>\n",
       "      <td></td>\n",
       "      <td>conferences</td>\n",
       "    </tr>\n",
       "    <tr>\n",
       "      <th>3</th>\n",
       "      <td>2024-07-08</td>\n",
       "      <td>Flexible Multi-Channel Electrical Stimulation ...</td>\n",
       "      <td>IEEE International Conference on Advanced Robo...</td>\n",
       "      <td>NaN</td>\n",
       "      <td>Jinxin Sun, **Guojing Huang**, Chengyu Lin, We...</td>\n",
       "      <td>2024-ICARM-2</td>\n",
       "      <td>https://ieeexplore.ieee.org/abstract/document/...</td>\n",
       "      <td></td>\n",
       "      <td>conferences</td>\n",
       "    </tr>\n",
       "    <tr>\n",
       "      <th>4</th>\n",
       "      <td>2024-10-01</td>\n",
       "      <td>Overconstrained Locomotion</td>\n",
       "      <td>International Symposium of Robotics Research (...</td>\n",
       "      <td>NaN</td>\n",
       "      <td>Haoran Sun, Shihao Feng, Bangchao Huang, Zish...</td>\n",
       "      <td>2024-ISRR</td>\n",
       "      <td>https://dx.doi.org/10.48550/arXiv.2310.09824</td>\n",
       "      <td></td>\n",
       "      <td>conferences</td>\n",
       "    </tr>\n",
       "  </tbody>\n",
       "</table>\n",
       "</div>"
      ],
      "text/plain": [
       "     pub_date                                              title  \\\n",
       "0  2024-06-21  基于混合现实的物品抓取方法及混合现实设备(An object grasping method...   \n",
       "1  2024-06-23  Evolutionary Morphology Towards Overconstraine...   \n",
       "2  2024-07-08  IMU-Based Prediction of Multiple Grasping Gest...   \n",
       "3  2024-07-08  Flexible Multi-Channel Electrical Stimulation ...   \n",
       "4  2024-10-01                         Overconstrained Locomotion   \n",
       "\n",
       "                                               venue  excerpt  \\\n",
       "0                                              China      NaN   \n",
       "1  IEEE/IFToMM International Conference on Reconf...      NaN   \n",
       "2  IEEE International Conference on Advanced Robo...      NaN   \n",
       "3  IEEE International Conference on Advanced Robo...      NaN   \n",
       "4  International Symposium of Robotics Research (...      NaN   \n",
       "\n",
       "                                            citation      url_slug  \\\n",
       "0   Chenglong Fu, Chengjie Zhang, Yuquan Leng, **...   2024-patent   \n",
       "1  Yenan Chen, Chuye Zhang, Pengxi Gu, Jianuo Qiu...    2024-ReMAR   \n",
       "2  Guotao Gou, Kong Hoi Cheng, Jinxin Sun, Chengy...  2024-ICARM-1   \n",
       "3  Jinxin Sun, **Guojing Huang**, Chengyu Lin, We...  2024-ICARM-2   \n",
       "4   Haoran Sun, Shihao Feng, Bangchao Huang, Zish...     2024-ISRR   \n",
       "\n",
       "                                           paper_url slides_url     category  \n",
       "0  https://patents.google.com/patent/CN116243795B...        NaN      patents  \n",
       "1  https://ieeexplore.ieee.org/abstract/document/...        NaN  conferences  \n",
       "2  https://ieeexplore.ieee.org/abstract/document/...             conferences  \n",
       "3  https://ieeexplore.ieee.org/abstract/document/...             conferences  \n",
       "4       https://dx.doi.org/10.48550/arXiv.2310.09824             conferences  "
      ]
     },
     "execution_count": 78,
     "metadata": {},
     "output_type": "execute_result"
    }
   ],
   "source": [
    "publications = pd.read_csv(\"publications.tsv\", sep=\"\\t\", header=0)\n",
    "publications\n"
   ]
  },
  {
   "cell_type": "markdown",
   "metadata": {},
   "source": [
    "## Escape special characters\n",
    "\n",
    "YAML is very picky about how it takes a valid string, so we are replacing single and double quotes (and ampersands) with their HTML encoded equivilents. This makes them look not so readable in raw format, but they are parsed and rendered nicely."
   ]
  },
  {
   "cell_type": "code",
   "execution_count": 79,
   "metadata": {
    "collapsed": true,
    "deletable": true,
    "editable": true
   },
   "outputs": [],
   "source": [
    "html_escape_table = {\n",
    "    \"&\": \"&amp;\",\n",
    "    '\"': \"&quot;\",\n",
    "    \"'\": \"&apos;\"\n",
    "    }\n",
    "\n",
    "def html_escape(text):\n",
    "    \"\"\"Produce entities within text.\"\"\"\n",
    "    return \"\".join(html_escape_table.get(c,c) for c in text)"
   ]
  },
  {
   "cell_type": "markdown",
   "metadata": {},
   "source": [
    "## Creating the markdown files\n",
    "\n",
    "This is where the heavy lifting is done. This loops through all the rows in the TSV dataframe, then starts to concatentate a big string (```md```) that contains the markdown for each type. It does the YAML metadata first, then does the description for the individual page."
   ]
  },
  {
   "cell_type": "code",
   "execution_count": 80,
   "metadata": {
    "collapsed": false,
    "deletable": true,
    "editable": true
   },
   "outputs": [],
   "source": [
    "import os\n",
    "for row, item in publications.iterrows():\n",
    "    \n",
    "    md_filename = str(item.pub_date) + \"-\" + item.url_slug + \".md\"\n",
    "    html_filename = str(item.pub_date) + \"-\" + item.url_slug\n",
    "    year = item.pub_date[:4]\n",
    "    \n",
    "    ## YAML variables\n",
    "    \n",
    "    md = \"---\\ntitle: \\\"\"   + item.title + '\"\\n'\n",
    "    \n",
    "    md += \"\"\"collection: publications\"\"\"\n",
    "\n",
    "    md += \"\"\"\\ncategory: \"\"\" + item.category\n",
    "    \n",
    "    md += \"\"\"\\npermalink: /publication/\"\"\" + item.category + \"\"\"/\"\"\" + html_filename\n",
    "    \n",
    "    if len(str(item.excerpt)) > 5:\n",
    "        md += \"\\nexcerpt: '\" + html_escape(item.excerpt) + \"'\"\n",
    "    \n",
    "    md += \"\\ndate: \" + str(item.pub_date) \n",
    "    \n",
    "    md += \"\\nvenue: '\" + html_escape(item.venue) + \"'\"\n",
    "    \n",
    "    if len(str(item.slides_url)) > 5:\n",
    "        md += \"\\nslidesurl: '\" + item.slides_url + \"'\"\n",
    "\n",
    "    if len(str(item.paper_url)) > 5:\n",
    "        md += \"\\npaperurl: '\" + item.paper_url + \"'\"\n",
    "    \n",
    "    # md += \"\\ncitation: '\" + html_escape(item.citation) + \"'\"\n",
    "    \n",
    "    md += \"\\n---\"\n",
    "    \n",
    "    ## Markdown description for individual page\n",
    "        \n",
    "    # if len(str(item.excerpt)) > 5:\n",
    "    #     md += \"\\n\" + html_escape(item.excerpt) + \"\\n\"\n",
    "\n",
    "    # if len(str(item.slides_url)) > 5:\n",
    "    #     md += \"\\n[Download slides here](\" + item.slides_url + \")\\n\" \n",
    "\n",
    "    # if len(str(item.paper_url)) > 5:\n",
    "    #     md += \"\\n[Download paper here](\" + item.paper_url + \")\\n\" \n",
    "        \n",
    "    md += \"\\nRecommended citation: \" + item.citation\n",
    "    \n",
    "    md_filename = os.path.basename(md_filename)\n",
    "    \n",
    "    with open(\"../_publications/\" + md_filename, 'w') as f:\n",
    "        f.write(md)"
   ]
  },
  {
   "cell_type": "markdown",
   "metadata": {},
   "source": [
    "These files are in the publications directory, one directory below where we're working from."
   ]
  },
  {
   "cell_type": "code",
   "execution_count": 81,
   "metadata": {
    "collapsed": false,
    "deletable": true,
    "editable": true
   },
   "outputs": [
    {
     "name": "stderr",
     "output_type": "stream",
     "text": [
      "'ls' �����ڲ����ⲿ���Ҳ���ǿ����еĳ���\n",
      "���������ļ���\n"
     ]
    }
   ],
   "source": [
    "!ls ../_publications/"
   ]
  },
  {
   "cell_type": "code",
   "execution_count": 82,
   "metadata": {
    "collapsed": false,
    "deletable": true,
    "editable": true
   },
   "outputs": [
    {
     "name": "stderr",
     "output_type": "stream",
     "text": [
      "'cat' �����ڲ����ⲿ���Ҳ���ǿ����еĳ���\n",
      "���������ļ���\n"
     ]
    }
   ],
   "source": [
    "!cat ../_publications/2009-10-01-paper-title-number-1.md"
   ]
  },
  {
   "cell_type": "code",
   "execution_count": null,
   "metadata": {
    "collapsed": true,
    "deletable": true,
    "editable": true
   },
   "outputs": [],
   "source": []
  }
 ],
 "metadata": {
  "kernelspec": {
   "display_name": "Python 3",
   "language": "python",
   "name": "python3"
  },
  "language_info": {
   "codemirror_mode": {
    "name": "ipython",
    "version": 3
   },
   "file_extension": ".py",
   "mimetype": "text/x-python",
   "name": "python",
   "nbconvert_exporter": "python",
   "pygments_lexer": "ipython3",
   "version": "3.8.20"
  }
 },
 "nbformat": 4,
 "nbformat_minor": 0
}
